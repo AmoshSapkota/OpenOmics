{
 "cells": [
  {
   "cell_type": "code",
   "execution_count": 1,
   "metadata": {},
   "outputs": [],
   "source": [
    "# Necessary imports\n",
    "%load_ext autoreload\n",
    "%autoreload 1\n",
    "\n",
    "import networkx as nx\n",
    "import numpy as np\n",
    "import pandas as pd\n",
    "import scipy.sparse as sps\n",
    "import pickle\n",
    "\n",
    "import dask.dataframe as dd\n",
    "\n",
    "from openTCGA.multiomics import MultiOmicsData\n",
    "from openTCGA.annotation import *\n",
    "\n",
    "import matplotlib.pyplot as plt\n",
    "pd.set_option('display.max_rows', 10000)\n",
    "\n"
   ]
  },
  {
   "cell_type": "code",
   "execution_count": 2,
   "metadata": {},
   "outputs": [
    {
     "name": "stdout",
     "output_type": "stream",
     "text": [
      "Unmatched lncRNAs 12727\n",
      "Unmatched lncRNAs after ensembl: 879\n",
      "Unmatched lncRNAs after lncBase: 716\n",
      "Unmatched lncRNAs after HGNC: 674\n",
      "Unmatched lncRNAs after lncipedia: 555\n",
      "PATIENTS (522, 110)\n",
      "BIOSPECIMENS (126, 2)\n",
      "DRUGS (461, 4)\n",
      "GE (576, 20143)\n",
      "MIR (494, 1870)\n",
      "LNC (546, 12727)\n",
      "SAMPLES (599, 111)\n",
      "Processed genes info for  GE\n",
      "Processed genes info for  MIR\n",
      "Processed genes info for  LNC\n"
     ]
    }
   ],
   "source": [
    "folder_path = \"/data/datasets/Bioinformatics_ExternalData/tcga-assembler/LUAD/\"\n",
    "external_data_path = \"/data/datasets/Bioinformatics_ExternalData/\"\n",
    "luad_data = MultiOmicsData(\"LUAD\", folder_path, external_data_path=external_data_path,\n",
    "                           import_sequences=\"shortest\", replace_U2T=True,\n",
    "                           modalities=[\\\n",
    "                                       \"GE\",\n",
    "                                       \"MIR\",\n",
    "                                       \"LNC\",\n",
    "                                       # \"CNV\",\n",
    "                                       # \"SNP\",\n",
    "#                                        \"PRO\",\n",
    "                                       # \"DNA\"\n",
    "                                       ])"
   ]
  },
  {
   "cell_type": "code",
   "execution_count": 3,
   "metadata": {},
   "outputs": [],
   "source": [
    "gencode = GENCODE(import_folder=\"/data/datasets/Bioinformatics_ExternalData/GENCODE/\")"
   ]
  },
  {
   "cell_type": "code",
   "execution_count": 3,
   "metadata": {},
   "outputs": [],
   "source": [
    "from gseapy.parser import Biomart\n",
    "bm = Biomart()\n",
    "results = bm.query(dataset='hsapiens_gene_ensembl',\n",
    "                   attributes=['external_gene_name','entrezgene', 'go_id'],\n",
    "                   # save output file\n",
    "                   filename=\"query.results.txt\")"
   ]
  },
  {
   "cell_type": "code",
   "execution_count": null,
   "metadata": {},
   "outputs": [
    {
     "name": "stdout",
     "output_type": "stream",
     "text": [
      "Querying hsapiens_gene_ensembl from useast.ensembl.org with attributes ['variation_name', 'allele', 'minor_allele', 'transcript_location', 'snp_chromosome_strand', 'chromosome_start', 'chromosome_end']...\n"
     ]
    }
   ],
   "source": [
    "ensemble_snp = EnsembleSNP(host=\"useast.ensembl.org\")\n",
    "ensemble_snp.filename"
   ]
  },
  {
   "cell_type": "code",
   "execution_count": null,
   "metadata": {},
   "outputs": [],
   "source": [
    "ensemble_snp.df.head()"
   ]
  },
  {
   "cell_type": "code",
   "execution_count": null,
   "metadata": {
    "scrolled": true
   },
   "outputs": [],
   "source": [
    "ensemble_somatic = EnsembleSomaticVariation()\n",
    "ensemble_somatic.filename"
   ]
  },
  {
   "cell_type": "code",
   "execution_count": null,
   "metadata": {},
   "outputs": [],
   "source": [
    "ensemble_geneseq = EnsembleGeneSequences()\n",
    "ensemble_geneseq.filename"
   ]
  },
  {
   "cell_type": "code",
   "execution_count": null,
   "metadata": {},
   "outputs": [],
   "source": [
    "ensemble_transcriptseq = EnsembleTranscriptSequences()"
   ]
  },
  {
   "cell_type": "code",
   "execution_count": 38,
   "metadata": {},
   "outputs": [],
   "source": [
    "from bioservices import BioMart"
   ]
  },
  {
   "cell_type": "code",
   "execution_count": 3,
   "metadata": {},
   "outputs": [],
   "source": [
    "bm = BioMart(host=\"www.ensembl.org\")"
   ]
  },
  {
   "cell_type": "code",
   "execution_count": null,
   "metadata": {},
   "outputs": [],
   "source": [
    "temp = pd.DataFrame()\n",
    "for k,v in bm.attributes(\"hsapiens_gene_ensembl\").items():\n",
    "    temp[k] = v\n",
    "temp.T"
   ]
  },
  {
   "cell_type": "code",
   "execution_count": 6,
   "metadata": {},
   "outputs": [
    {
     "data": {
      "text/plain": [
       "'hsapiens_gene_ensembl__mart_transcript_variation_som__dm'"
      ]
     },
     "execution_count": 6,
     "metadata": {},
     "output_type": "execute_result"
    }
   ],
   "source": [
    "temp.T.loc[\"somatic_variation_name\"][4]"
   ]
  },
  {
   "cell_type": "code",
   "execution_count": null,
   "metadata": {},
   "outputs": [],
   "source": [
    "temp = pd.DataFrame()\n",
    "for k,v in bm.attributes(\"hsapiens_gene_ensembl__mart_transcript_variation_som__dm\").items():\n",
    "    temp[k] = v\n",
    "temp.T"
   ]
  },
  {
   "cell_type": "code",
   "execution_count": null,
   "metadata": {},
   "outputs": [],
   "source": [
    "bm.new_query()\n",
    "bm.add_dataset_to_xml(\"hsapiens_gene_ensembl__mart_transcript_variation_som__dm\")\n",
    "# bm.attributes(\"ensembl_mart_sequence\")"
   ]
  },
  {
   "cell_type": "code",
   "execution_count": null,
   "metadata": {},
   "outputs": [],
   "source": [
    "\n",
    "for at in attributes:\n",
    "    bm.add_attribute_to_xml(at)\n",
    "xml_query = bm.get_xml()\n",
    "\n",
    "print(\"Querying {} from {}...\".format(dataset, host))\n",
    "results = bm.query(xml_query)\n",
    "df = pd.read_csv(StringIO(results), header=None, names=attributes, sep=\"\\t\", index_col=None)"
   ]
  }
 ],
 "metadata": {
  "kernelspec": {
   "display_name": "Python 3",
   "language": "python",
   "name": "python3"
  },
  "language_info": {
   "codemirror_mode": {
    "name": "ipython",
    "version": 3
   },
   "file_extension": ".py",
   "mimetype": "text/x-python",
   "name": "python",
   "nbconvert_exporter": "python",
   "pygments_lexer": "ipython3",
   "version": "3.6.9"
  }
 },
 "nbformat": 4,
 "nbformat_minor": 4
}
