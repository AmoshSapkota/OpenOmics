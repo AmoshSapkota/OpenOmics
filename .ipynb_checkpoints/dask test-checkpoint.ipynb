{
 "cells": [
  {
   "cell_type": "code",
   "execution_count": 1,
   "metadata": {},
   "outputs": [],
   "source": [
    "%load_ext autoreload\n",
    "%autoreload 2\n",
    "import dask.dataframe as dd\n",
    "from openTCGA.annotation import *\n",
    "\n",
    "from openTCGA.multiomics import MultiOmicsData\n",
    "from openTCGA.annotation import *"
   ]
  },
  {
   "cell_type": "code",
   "execution_count": 2,
   "metadata": {},
   "outputs": [
    {
     "name": "stdout",
     "output_type": "stream",
     "text": [
      "LNC (546, 12727)\n"
     ]
    }
   ],
   "source": [
    "folder_path = \"/data/datasets/Bioinformatics_ExternalData/tcga-assembler/LUAD/\"\n",
    "external_data_path = \"/data/datasets/Bioinformatics_ExternalData/\"\n",
    "luad_data = MultiOmicsData(\"LUAD\", folder_path, external_data_path=external_data_path,\n",
    "                           import_sequences=\"shortest\", replace_U2T=True,\n",
    "                           process_genes_info=False, auto_import_clinical=False,\n",
    "                           modalities=[\\\n",
    "#                                        \"GE\",\n",
    "#                                        \"MIR\",\n",
    "                                       \"LNC\",\n",
    "                                       # \"CNV\",\n",
    "                                       # \"SNP\",\n",
    "#                                        \"PRO\",\n",
    "                                       # \"DNA\"\n",
    "                                       ])\n",
    "luad_data.LNC.initialize_annotations(None, \"gene_id\")"
   ]
  },
  {
   "cell_type": "code",
   "execution_count": 5,
   "metadata": {
    "scrolled": true
   },
   "outputs": [],
   "source": [
    "gencode = GENCODE(import_folder=\"/data/datasets/Bioinformatics_ExternalData/GENCODE/\")\n",
    "luad_data.LNC.annotate_sequences(gencode, index=\"gene_id\")\n",
    "# luad_data.LNC.annotate_genomics(gencode, index=\"gene_id\", columns=None)"
   ]
  },
  {
   "cell_type": "code",
   "execution_count": 8,
   "metadata": {},
   "outputs": [
    {
     "name": "stderr",
     "output_type": "stream",
     "text": [
      "/opt/anaconda3/lib/python3.6/site-packages/ipykernel_launcher.py:1: DtypeWarning: Columns (10) have mixed types. Specify dtype option on import or set low_memory=False.\n",
      "  \"\"\"Entry point for launching an IPython kernel.\n"
     ]
    },
    {
     "name": "stdout",
     "output_type": "stream",
     "text": [
      "Index(['gene_id', 'gene_name', 'transcript_id', 'transcript_name',\n",
      "       'chromosome_name', 'transcript_start', 'transcript_end',\n",
      "       'transcript_length', 'gene_biotype', 'transcript_biotype', 'rfam',\n",
      "       'go_id'],\n",
      "      dtype='object')\n"
     ]
    }
   ],
   "source": [
    "ensemble = EnsembleGenes()"
   ]
  },
  {
   "cell_type": "code",
   "execution_count": null,
   "metadata": {},
   "outputs": [],
   "source": [
    "luad_data.LNC.annotate_genomics(database=ensemble, index='gene_id', \n",
    "                                columns=['gene_name', 'transcript_id', 'transcript_name', \n",
    "                                         'rfam', 'go_id', 'gene_biotype', 'transcript_biotype'])"
   ]
  },
  {
   "cell_type": "code",
   "execution_count": null,
   "metadata": {
    "scrolled": true
   },
   "outputs": [],
   "source": [
    "luad_data.LNC.annotations"
   ]
  },
  {
   "cell_type": "code",
   "execution_count": null,
   "metadata": {},
   "outputs": [],
   "source": []
  }
 ],
 "metadata": {
  "kernelspec": {
   "display_name": "Python 3",
   "language": "python",
   "name": "python3"
  },
  "language_info": {
   "codemirror_mode": {
    "name": "ipython",
    "version": 3
   },
   "file_extension": ".py",
   "mimetype": "text/x-python",
   "name": "python",
   "nbconvert_exporter": "python",
   "pygments_lexer": "ipython3",
   "version": "3.6.9"
  }
 },
 "nbformat": 4,
 "nbformat_minor": 4
}
