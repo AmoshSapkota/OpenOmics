{
 "cells": [
  {
   "cell_type": "code",
   "execution_count": 1,
   "metadata": {},
   "outputs": [],
   "source": [
    "# Necessary imports\n",
    "%load_ext autoreload\n",
    "%autoreload 1\n",
    "\n",
    "import networkx as nx\n",
    "import numpy as np\n",
    "import pandas as pd\n",
    "import scipy.sparse as sps\n",
    "import pickle\n",
    "\n",
    "import dask.dataframe as dd\n",
    "\n",
    "from openomics.multiomics import MultiOmics\n",
    "from openomics.transcriptomics import *\n",
    "from openomics.database import *\n",
    "\n",
    "from bioservices import BioMart\n",
    "\n",
    "import matplotlib.pyplot as plt\n",
    "pd.set_option('display.max_rows', 100)"
   ]
  },
  {
   "cell_type": "code",
   "execution_count": 2,
   "metadata": {
    "scrolled": true
   },
   "outputs": [
    {
     "name": "stdout",
     "output_type": "stream",
     "text": [
      "Fetching file from URL: https://stringdb-static.org/download/protein.links.v11.0/ 9606.protein.links.v11.0.txt.gz\n",
      "Fetching file from URL: https://stringdb-static.org/download/protein.info.v11.0/ 9606.protein.info.v11.0.txt.gz\n",
      "Fetching file from URL: https://stringdb-static.org/download/protein.sequences.v11.0/ 9606.protein.sequences.v11.0.fa.gz\n",
      "Name: STRING\n",
      "Type: Graph\n",
      "Number of nodes: 19344\n",
      "Number of edges: 5877115\n",
      "Average degree: 607.6422\n"
     ]
    },
    {
     "ename": "EmptyDataError",
     "evalue": "No columns to parse from file",
     "output_type": "error",
     "traceback": [
      "\u001b[0;31m---------------------------------------------------------------------------\u001b[0m",
      "\u001b[0;31mEmptyDataError\u001b[0m                            Traceback (most recent call last)",
      "\u001b[0;32m<ipython-input-2-a902ea88d36f>\u001b[0m in \u001b[0;36m<module>\u001b[0;34m\u001b[0m\n\u001b[1;32m      1\u001b[0m string = STRING(path=\"https://stringdb-static.org/download/\",\n\u001b[1;32m      2\u001b[0m                   \u001b[0mspecies_id\u001b[0m\u001b[0;34m=\u001b[0m\u001b[0;34m\"9606\"\u001b[0m\u001b[0;34m,\u001b[0m\u001b[0;34m\u001b[0m\u001b[0;34m\u001b[0m\u001b[0m\n\u001b[0;32m----> 3\u001b[0;31m                   source_col_name=\"protein1\", target_col_name=\"protein2\", )\n\u001b[0m",
      "\u001b[0;32m~/Desktop/PycharmProjects/openomics/openomics/database/interaction.py\u001b[0m in \u001b[0;36m__init__\u001b[0;34m(self, path, file_resources, species_id, source_col_name, target_col_name, source_index, target_index, edge_attr, directed, relabel_nodes)\u001b[0m\n\u001b[1;32m    171\u001b[0m                                      \u001b[0msource_index\u001b[0m\u001b[0;34m=\u001b[0m\u001b[0msource_index\u001b[0m\u001b[0;34m,\u001b[0m \u001b[0mtarget_index\u001b[0m\u001b[0;34m=\u001b[0m\u001b[0mtarget_index\u001b[0m\u001b[0;34m,\u001b[0m \u001b[0medge_attr\u001b[0m\u001b[0;34m=\u001b[0m\u001b[0medge_attr\u001b[0m\u001b[0;34m,\u001b[0m\u001b[0;34m\u001b[0m\u001b[0;34m\u001b[0m\u001b[0m\n\u001b[1;32m    172\u001b[0m                                      directed=directed, relabel_nodes=relabel_nodes)\n\u001b[0;32m--> 173\u001b[0;31m         \u001b[0mself\u001b[0m\u001b[0;34m.\u001b[0m\u001b[0mdf\u001b[0m \u001b[0;34m=\u001b[0m \u001b[0mself\u001b[0m\u001b[0;34m.\u001b[0m\u001b[0mload_dataframe\u001b[0m\u001b[0;34m(\u001b[0m\u001b[0mself\u001b[0m\u001b[0;34m.\u001b[0m\u001b[0mfile_resources\u001b[0m\u001b[0;34m)\u001b[0m\u001b[0;34m\u001b[0m\u001b[0;34m\u001b[0m\u001b[0m\n\u001b[0m\u001b[1;32m    174\u001b[0m         \u001b[0mself\u001b[0m\u001b[0;34m.\u001b[0m\u001b[0mdf\u001b[0m \u001b[0;34m=\u001b[0m \u001b[0mself\u001b[0m\u001b[0;34m.\u001b[0m\u001b[0mdf\u001b[0m\u001b[0;34m.\u001b[0m\u001b[0mreset_index\u001b[0m\u001b[0;34m(\u001b[0m\u001b[0;34m)\u001b[0m\u001b[0;34m\u001b[0m\u001b[0;34m\u001b[0m\u001b[0m\n\u001b[1;32m    175\u001b[0m         \u001b[0mself\u001b[0m\u001b[0;34m.\u001b[0m\u001b[0mdf\u001b[0m \u001b[0;34m=\u001b[0m \u001b[0mself\u001b[0m\u001b[0;34m.\u001b[0m\u001b[0mdf\u001b[0m\u001b[0;34m.\u001b[0m\u001b[0mrename\u001b[0m\u001b[0;34m(\u001b[0m\u001b[0mcolumns\u001b[0m\u001b[0;34m=\u001b[0m\u001b[0mself\u001b[0m\u001b[0;34m.\u001b[0m\u001b[0mCOLUMNS_RENAME_DICT\u001b[0m\u001b[0;34m)\u001b[0m\u001b[0;34m\u001b[0m\u001b[0;34m\u001b[0m\u001b[0m\n",
      "\u001b[0;32m~/Desktop/PycharmProjects/openomics/openomics/database/interaction.py\u001b[0m in \u001b[0;36mload_dataframe\u001b[0;34m(self, file_resources)\u001b[0m\n\u001b[1;32m    187\u001b[0m \u001b[0;34m\u001b[0m\u001b[0m\n\u001b[1;32m    188\u001b[0m     \u001b[0;32mdef\u001b[0m \u001b[0mload_dataframe\u001b[0m\u001b[0;34m(\u001b[0m\u001b[0mself\u001b[0m\u001b[0;34m,\u001b[0m \u001b[0mfile_resources\u001b[0m\u001b[0;34m)\u001b[0m\u001b[0;34m:\u001b[0m\u001b[0;34m\u001b[0m\u001b[0;34m\u001b[0m\u001b[0m\n\u001b[0;32m--> 189\u001b[0;31m         \u001b[0mdf\u001b[0m \u001b[0;34m=\u001b[0m \u001b[0mpd\u001b[0m\u001b[0;34m.\u001b[0m\u001b[0mread_table\u001b[0m\u001b[0;34m(\u001b[0m\u001b[0mfile_resources\u001b[0m\u001b[0;34m[\u001b[0m\u001b[0;34m\"protein.info.txt\"\u001b[0m\u001b[0;34m]\u001b[0m\u001b[0;34m,\u001b[0m \u001b[0msep\u001b[0m\u001b[0;34m=\u001b[0m\u001b[0;34m\" \"\u001b[0m\u001b[0;34m,\u001b[0m \u001b[0;34m)\u001b[0m\u001b[0;34m\u001b[0m\u001b[0;34m\u001b[0m\u001b[0m\n\u001b[0m\u001b[1;32m    190\u001b[0m         \u001b[0mprint\u001b[0m\u001b[0;34m(\u001b[0m\u001b[0mdf\u001b[0m\u001b[0;34m.\u001b[0m\u001b[0mcolumns\u001b[0m\u001b[0;34m)\u001b[0m\u001b[0;34m\u001b[0m\u001b[0;34m\u001b[0m\u001b[0m\n\u001b[1;32m    191\u001b[0m         \u001b[0;32mreturn\u001b[0m \u001b[0mdf\u001b[0m\u001b[0;34m\u001b[0m\u001b[0;34m\u001b[0m\u001b[0m\n",
      "\u001b[0;32m~/anaconda3/lib/python3.6/site-packages/pandas/io/parsers.py\u001b[0m in \u001b[0;36mparser_f\u001b[0;34m(filepath_or_buffer, sep, delimiter, header, names, index_col, usecols, squeeze, prefix, mangle_dupe_cols, dtype, engine, converters, true_values, false_values, skipinitialspace, skiprows, skipfooter, nrows, na_values, keep_default_na, na_filter, verbose, skip_blank_lines, parse_dates, infer_datetime_format, keep_date_col, date_parser, dayfirst, cache_dates, iterator, chunksize, compression, thousands, decimal, lineterminator, quotechar, quoting, doublequote, escapechar, comment, encoding, dialect, error_bad_lines, warn_bad_lines, delim_whitespace, low_memory, memory_map, float_precision)\u001b[0m\n\u001b[1;32m    683\u001b[0m         )\n\u001b[1;32m    684\u001b[0m \u001b[0;34m\u001b[0m\u001b[0m\n\u001b[0;32m--> 685\u001b[0;31m         \u001b[0;32mreturn\u001b[0m \u001b[0m_read\u001b[0m\u001b[0;34m(\u001b[0m\u001b[0mfilepath_or_buffer\u001b[0m\u001b[0;34m,\u001b[0m \u001b[0mkwds\u001b[0m\u001b[0;34m)\u001b[0m\u001b[0;34m\u001b[0m\u001b[0;34m\u001b[0m\u001b[0m\n\u001b[0m\u001b[1;32m    686\u001b[0m \u001b[0;34m\u001b[0m\u001b[0m\n\u001b[1;32m    687\u001b[0m     \u001b[0mparser_f\u001b[0m\u001b[0;34m.\u001b[0m\u001b[0m__name__\u001b[0m \u001b[0;34m=\u001b[0m \u001b[0mname\u001b[0m\u001b[0;34m\u001b[0m\u001b[0;34m\u001b[0m\u001b[0m\n",
      "\u001b[0;32m~/anaconda3/lib/python3.6/site-packages/pandas/io/parsers.py\u001b[0m in \u001b[0;36m_read\u001b[0;34m(filepath_or_buffer, kwds)\u001b[0m\n\u001b[1;32m    455\u001b[0m \u001b[0;34m\u001b[0m\u001b[0m\n\u001b[1;32m    456\u001b[0m     \u001b[0;31m# Create the parser.\u001b[0m\u001b[0;34m\u001b[0m\u001b[0;34m\u001b[0m\u001b[0;34m\u001b[0m\u001b[0m\n\u001b[0;32m--> 457\u001b[0;31m     \u001b[0mparser\u001b[0m \u001b[0;34m=\u001b[0m \u001b[0mTextFileReader\u001b[0m\u001b[0;34m(\u001b[0m\u001b[0mfp_or_buf\u001b[0m\u001b[0;34m,\u001b[0m \u001b[0;34m**\u001b[0m\u001b[0mkwds\u001b[0m\u001b[0;34m)\u001b[0m\u001b[0;34m\u001b[0m\u001b[0;34m\u001b[0m\u001b[0m\n\u001b[0m\u001b[1;32m    458\u001b[0m \u001b[0;34m\u001b[0m\u001b[0m\n\u001b[1;32m    459\u001b[0m     \u001b[0;32mif\u001b[0m \u001b[0mchunksize\u001b[0m \u001b[0;32mor\u001b[0m \u001b[0miterator\u001b[0m\u001b[0;34m:\u001b[0m\u001b[0;34m\u001b[0m\u001b[0;34m\u001b[0m\u001b[0m\n",
      "\u001b[0;32m~/anaconda3/lib/python3.6/site-packages/pandas/io/parsers.py\u001b[0m in \u001b[0;36m__init__\u001b[0;34m(self, f, engine, **kwds)\u001b[0m\n\u001b[1;32m    893\u001b[0m             \u001b[0mself\u001b[0m\u001b[0;34m.\u001b[0m\u001b[0moptions\u001b[0m\u001b[0;34m[\u001b[0m\u001b[0;34m\"has_index_names\"\u001b[0m\u001b[0;34m]\u001b[0m \u001b[0;34m=\u001b[0m \u001b[0mkwds\u001b[0m\u001b[0;34m[\u001b[0m\u001b[0;34m\"has_index_names\"\u001b[0m\u001b[0;34m]\u001b[0m\u001b[0;34m\u001b[0m\u001b[0;34m\u001b[0m\u001b[0m\n\u001b[1;32m    894\u001b[0m \u001b[0;34m\u001b[0m\u001b[0m\n\u001b[0;32m--> 895\u001b[0;31m         \u001b[0mself\u001b[0m\u001b[0;34m.\u001b[0m\u001b[0m_make_engine\u001b[0m\u001b[0;34m(\u001b[0m\u001b[0mself\u001b[0m\u001b[0;34m.\u001b[0m\u001b[0mengine\u001b[0m\u001b[0;34m)\u001b[0m\u001b[0;34m\u001b[0m\u001b[0;34m\u001b[0m\u001b[0m\n\u001b[0m\u001b[1;32m    896\u001b[0m \u001b[0;34m\u001b[0m\u001b[0m\n\u001b[1;32m    897\u001b[0m     \u001b[0;32mdef\u001b[0m \u001b[0mclose\u001b[0m\u001b[0;34m(\u001b[0m\u001b[0mself\u001b[0m\u001b[0;34m)\u001b[0m\u001b[0;34m:\u001b[0m\u001b[0;34m\u001b[0m\u001b[0;34m\u001b[0m\u001b[0m\n",
      "\u001b[0;32m~/anaconda3/lib/python3.6/site-packages/pandas/io/parsers.py\u001b[0m in \u001b[0;36m_make_engine\u001b[0;34m(self, engine)\u001b[0m\n\u001b[1;32m   1133\u001b[0m     \u001b[0;32mdef\u001b[0m \u001b[0m_make_engine\u001b[0m\u001b[0;34m(\u001b[0m\u001b[0mself\u001b[0m\u001b[0;34m,\u001b[0m \u001b[0mengine\u001b[0m\u001b[0;34m=\u001b[0m\u001b[0;34m\"c\"\u001b[0m\u001b[0;34m)\u001b[0m\u001b[0;34m:\u001b[0m\u001b[0;34m\u001b[0m\u001b[0;34m\u001b[0m\u001b[0m\n\u001b[1;32m   1134\u001b[0m         \u001b[0;32mif\u001b[0m \u001b[0mengine\u001b[0m \u001b[0;34m==\u001b[0m \u001b[0;34m\"c\"\u001b[0m\u001b[0;34m:\u001b[0m\u001b[0;34m\u001b[0m\u001b[0;34m\u001b[0m\u001b[0m\n\u001b[0;32m-> 1135\u001b[0;31m             \u001b[0mself\u001b[0m\u001b[0;34m.\u001b[0m\u001b[0m_engine\u001b[0m \u001b[0;34m=\u001b[0m \u001b[0mCParserWrapper\u001b[0m\u001b[0;34m(\u001b[0m\u001b[0mself\u001b[0m\u001b[0;34m.\u001b[0m\u001b[0mf\u001b[0m\u001b[0;34m,\u001b[0m \u001b[0;34m**\u001b[0m\u001b[0mself\u001b[0m\u001b[0;34m.\u001b[0m\u001b[0moptions\u001b[0m\u001b[0;34m)\u001b[0m\u001b[0;34m\u001b[0m\u001b[0;34m\u001b[0m\u001b[0m\n\u001b[0m\u001b[1;32m   1136\u001b[0m         \u001b[0;32melse\u001b[0m\u001b[0;34m:\u001b[0m\u001b[0;34m\u001b[0m\u001b[0;34m\u001b[0m\u001b[0m\n\u001b[1;32m   1137\u001b[0m             \u001b[0;32mif\u001b[0m \u001b[0mengine\u001b[0m \u001b[0;34m==\u001b[0m \u001b[0;34m\"python\"\u001b[0m\u001b[0;34m:\u001b[0m\u001b[0;34m\u001b[0m\u001b[0;34m\u001b[0m\u001b[0m\n",
      "\u001b[0;32m~/anaconda3/lib/python3.6/site-packages/pandas/io/parsers.py\u001b[0m in \u001b[0;36m__init__\u001b[0;34m(self, src, **kwds)\u001b[0m\n\u001b[1;32m   1915\u001b[0m         \u001b[0mkwds\u001b[0m\u001b[0;34m[\u001b[0m\u001b[0;34m\"usecols\"\u001b[0m\u001b[0;34m]\u001b[0m \u001b[0;34m=\u001b[0m \u001b[0mself\u001b[0m\u001b[0;34m.\u001b[0m\u001b[0musecols\u001b[0m\u001b[0;34m\u001b[0m\u001b[0;34m\u001b[0m\u001b[0m\n\u001b[1;32m   1916\u001b[0m \u001b[0;34m\u001b[0m\u001b[0m\n\u001b[0;32m-> 1917\u001b[0;31m         \u001b[0mself\u001b[0m\u001b[0;34m.\u001b[0m\u001b[0m_reader\u001b[0m \u001b[0;34m=\u001b[0m \u001b[0mparsers\u001b[0m\u001b[0;34m.\u001b[0m\u001b[0mTextReader\u001b[0m\u001b[0;34m(\u001b[0m\u001b[0msrc\u001b[0m\u001b[0;34m,\u001b[0m \u001b[0;34m**\u001b[0m\u001b[0mkwds\u001b[0m\u001b[0;34m)\u001b[0m\u001b[0;34m\u001b[0m\u001b[0;34m\u001b[0m\u001b[0m\n\u001b[0m\u001b[1;32m   1918\u001b[0m         \u001b[0mself\u001b[0m\u001b[0;34m.\u001b[0m\u001b[0munnamed_cols\u001b[0m \u001b[0;34m=\u001b[0m \u001b[0mself\u001b[0m\u001b[0;34m.\u001b[0m\u001b[0m_reader\u001b[0m\u001b[0;34m.\u001b[0m\u001b[0munnamed_cols\u001b[0m\u001b[0;34m\u001b[0m\u001b[0;34m\u001b[0m\u001b[0m\n\u001b[1;32m   1919\u001b[0m \u001b[0;34m\u001b[0m\u001b[0m\n",
      "\u001b[0;32mpandas/_libs/parsers.pyx\u001b[0m in \u001b[0;36mpandas._libs.parsers.TextReader.__cinit__\u001b[0;34m()\u001b[0m\n",
      "\u001b[0;31mEmptyDataError\u001b[0m: No columns to parse from file"
     ]
    }
   ],
   "source": [
    "string = STRING(path=\"https://stringdb-static.org/download/\",\n",
    "                  species_id=\"9606\",\n",
    "                  source_col_name=\"protein1\", target_col_name=\"protein2\", )"
   ]
  },
  {
   "cell_type": "code",
   "execution_count": 5,
   "metadata": {},
   "outputs": [
    {
     "ename": "NameError",
     "evalue": "name 'string' is not defined",
     "output_type": "error",
     "traceback": [
      "\u001b[0;31m---------------------------------------------------------------------------\u001b[0m",
      "\u001b[0;31mNameError\u001b[0m                                 Traceback (most recent call last)",
      "\u001b[0;32m<ipython-input-5-80edff1f9617>\u001b[0m in \u001b[0;36m<module>\u001b[0;34m\u001b[0m\n\u001b[0;32m----> 1\u001b[0;31m \u001b[0mstring\u001b[0m\u001b[0;34m.\u001b[0m\u001b[0mnetwork\u001b[0m\u001b[0;34m\u001b[0m\u001b[0;34m\u001b[0m\u001b[0m\n\u001b[0m",
      "\u001b[0;31mNameError\u001b[0m: name 'string' is not defined"
     ]
    }
   ],
   "source": [
    "string.network"
   ]
  },
  {
   "cell_type": "code",
   "execution_count": null,
   "metadata": {},
   "outputs": [],
   "source": [
    "string"
   ]
  },
  {
   "cell_type": "code",
   "execution_count": null,
   "metadata": {},
   "outputs": [],
   "source": []
  },
  {
   "cell_type": "code",
   "execution_count": 3,
   "metadata": {},
   "outputs": [
    {
     "data": {
      "text/plain": [
       "['ensembl_mart_97',\n",
       " 'genomic_features_mart_97',\n",
       " 'mouse_mart_97',\n",
       " 'ontology_mart_97',\n",
       " 'regulation_mart_97',\n",
       " 'sequence_mart_97',\n",
       " 'snp_mart_97']"
      ]
     },
     "execution_count": 3,
     "metadata": {},
     "output_type": "execute_result"
    }
   ],
   "source": [
    "bm = BioMart(host=\"www.ensembl.org\")\n",
    "bm.databases"
   ]
  },
  {
   "cell_type": "code",
   "execution_count": 15,
   "metadata": {},
   "outputs": [
    {
     "name": "stdout",
     "output_type": "stream",
     "text": [
      "Candidate:\n",
      "     database: regulation_mart_97 \n",
      "    MART name: ENSEMBL_MART_GENOMIC \n",
      "  displayName: Genomic features 97 \n",
      "        hosts: www.ensembl.org \n",
      "Candidate:\n",
      "     database: snp_mart_97 \n",
      "    MART name: ENSEMBL_MART_FUNCGEN \n",
      "  displayName: Ensembl Regulation 97 \n",
      "        hosts: www.ensembl.org \n"
     ]
    }
   ],
   "source": [
    "bm.lookfor('reg')"
   ]
  },
  {
   "cell_type": "code",
   "execution_count": 16,
   "metadata": {
    "scrolled": true
   },
   "outputs": [
    {
     "name": "stdout",
     "output_type": "stream",
     "text": [
      "hsapiens_encode\n",
      "rnorvegicus_qtl_feature\n",
      "hsapiens_karyotype_end\n",
      "gaculeatus_marker_start\n",
      "hsapiens_marker_start\n",
      "ggallus_qtl_feature\n",
      "rnorvegicus_karyotype_end\n",
      "rnorvegicus_marker_end\n",
      "mmusculus_marker_end\n",
      "cfamiliaris_marker_end\n",
      "oaries_marker_end\n",
      "btaurus_qtl_feature\n",
      "gaculeatus_marker_end\n",
      "hsapiens_marker_end\n",
      "sscrofa_qtl_feature\n",
      "oaries_marker_start\n",
      "mmusculus_marker_start\n",
      "rnorvegicus_karyotype_start\n",
      "hsapiens_karyotype_start\n",
      "dmelanogaster_karyotype_start\n",
      "oaries_qtl_feature\n",
      "cfamiliaris_marker_start\n",
      "dmelanogaster_karyotype_end\n",
      "ecaballus_qtl_feature\n",
      "mmusculus_karyotype_end\n",
      "mmusculus_karyotype_start\n",
      "rnorvegicus_marker_start\n"
     ]
    }
   ],
   "source": [
    "datasets = bm.datasets(\"ENSEMBL_MART_GENOMIC\")\n",
    "for d in datasets:\n",
    "    print(d)"
   ]
  },
  {
   "cell_type": "code",
   "execution_count": 6,
   "metadata": {
    "scrolled": true
   },
   "outputs": [
    {
     "data": {
      "text/html": [
       "<div>\n",
       "<style scoped>\n",
       "    .dataframe tbody tr th:only-of-type {\n",
       "        vertical-align: middle;\n",
       "    }\n",
       "\n",
       "    .dataframe tbody tr th {\n",
       "        vertical-align: top;\n",
       "    }\n",
       "\n",
       "    .dataframe thead th {\n",
       "        text-align: right;\n",
       "    }\n",
       "</style>\n",
       "<table border=\"1\" class=\"dataframe\">\n",
       "  <thead>\n",
       "    <tr style=\"text-align: right;\">\n",
       "      <th></th>\n",
       "      <th>0</th>\n",
       "      <th>1</th>\n",
       "      <th>2</th>\n",
       "      <th>3</th>\n",
       "      <th>4</th>\n",
       "      <th>5</th>\n",
       "    </tr>\n",
       "  </thead>\n",
       "  <tbody>\n",
       "    <tr>\n",
       "      <th>activity</th>\n",
       "      <td>Activity</td>\n",
       "      <td></td>\n",
       "      <td>regulatory_feature</td>\n",
       "      <td>html,txt,csv,tsv,xls</td>\n",
       "      <td>hsapiens_regulatory_feature__regulatory_activi...</td>\n",
       "      <td>activity_1036</td>\n",
       "    </tr>\n",
       "    <tr>\n",
       "      <th>regulatory_stable_id</th>\n",
       "      <td>Regulatory stable ID</td>\n",
       "      <td></td>\n",
       "      <td>regulatory_feature</td>\n",
       "      <td>html,txt,csv,tsv,xls</td>\n",
       "      <td>hsapiens_regulatory_feature__regulatory_featur...</td>\n",
       "      <td>stable_id_1051</td>\n",
       "    </tr>\n",
       "    <tr>\n",
       "      <th>bound_seq_region_start</th>\n",
       "      <td>Bound start (bp)</td>\n",
       "      <td></td>\n",
       "      <td>regulatory_feature</td>\n",
       "      <td>html,txt,csv,tsv,xls</td>\n",
       "      <td>hsapiens_regulatory_feature__regulatory_featur...</td>\n",
       "      <td>bound_seq_region_start</td>\n",
       "    </tr>\n",
       "    <tr>\n",
       "      <th>bound_seq_region_end</th>\n",
       "      <td>Bound end (bp)</td>\n",
       "      <td></td>\n",
       "      <td>regulatory_feature</td>\n",
       "      <td>html,txt,csv,tsv,xls</td>\n",
       "      <td>hsapiens_regulatory_feature__regulatory_featur...</td>\n",
       "      <td>bound_seq_region_end</td>\n",
       "    </tr>\n",
       "    <tr>\n",
       "      <th>chromosome_name</th>\n",
       "      <td>Chromosome/scaffold name</td>\n",
       "      <td></td>\n",
       "      <td>regulatory_feature</td>\n",
       "      <td>html,txt,csv,tsv,xls</td>\n",
       "      <td>hsapiens_regulatory_feature__regulatory_featur...</td>\n",
       "      <td>seq_region_name_1051</td>\n",
       "    </tr>\n",
       "    <tr>\n",
       "      <th>chromosome_start</th>\n",
       "      <td>Start (bp)</td>\n",
       "      <td></td>\n",
       "      <td>regulatory_feature</td>\n",
       "      <td>html,txt,csv,tsv,xls</td>\n",
       "      <td>hsapiens_regulatory_feature__regulatory_featur...</td>\n",
       "      <td>seq_region_start_1051</td>\n",
       "    </tr>\n",
       "    <tr>\n",
       "      <th>chromosome_end</th>\n",
       "      <td>End (bp)</td>\n",
       "      <td></td>\n",
       "      <td>regulatory_feature</td>\n",
       "      <td>html,txt,csv,tsv,xls</td>\n",
       "      <td>hsapiens_regulatory_feature__regulatory_featur...</td>\n",
       "      <td>seq_region_end_1051</td>\n",
       "    </tr>\n",
       "    <tr>\n",
       "      <th>feature_type_name</th>\n",
       "      <td>Feature type</td>\n",
       "      <td></td>\n",
       "      <td>regulatory_feature</td>\n",
       "      <td>html,txt,csv,tsv,xls</td>\n",
       "      <td>hsapiens_regulatory_feature__regulatory_featur...</td>\n",
       "      <td>feature_type_name_1051</td>\n",
       "    </tr>\n",
       "    <tr>\n",
       "      <th>feature_type_description</th>\n",
       "      <td>Feature type description</td>\n",
       "      <td></td>\n",
       "      <td>regulatory_feature</td>\n",
       "      <td>html,txt,csv,tsv,xls</td>\n",
       "      <td>hsapiens_regulatory_feature__regulatory_featur...</td>\n",
       "      <td>feature_type_description_1051</td>\n",
       "    </tr>\n",
       "    <tr>\n",
       "      <th>epigenome_name</th>\n",
       "      <td>Epigenome name</td>\n",
       "      <td></td>\n",
       "      <td>regulatory_feature</td>\n",
       "      <td>html,txt,csv,tsv,xls</td>\n",
       "      <td>hsapiens_regulatory_feature__regulatory_activi...</td>\n",
       "      <td>epigenome_name_1081</td>\n",
       "    </tr>\n",
       "    <tr>\n",
       "      <th>epigenome_description</th>\n",
       "      <td>Epigenome description</td>\n",
       "      <td></td>\n",
       "      <td>regulatory_feature</td>\n",
       "      <td>html,txt,csv,tsv,xls</td>\n",
       "      <td>hsapiens_regulatory_feature__regulatory_activi...</td>\n",
       "      <td>epigenome_description_1081</td>\n",
       "    </tr>\n",
       "    <tr>\n",
       "      <th>so_accession</th>\n",
       "      <td>SO term accession</td>\n",
       "      <td></td>\n",
       "      <td>regulatory_feature</td>\n",
       "      <td>html,txt,csv,tsv,xls</td>\n",
       "      <td>hsapiens_regulatory_feature__regulatory_featur...</td>\n",
       "      <td>so_accession_1024</td>\n",
       "    </tr>\n",
       "    <tr>\n",
       "      <th>so_name</th>\n",
       "      <td>SO term name</td>\n",
       "      <td></td>\n",
       "      <td>regulatory_feature</td>\n",
       "      <td>html,txt,csv,tsv,xls</td>\n",
       "      <td>hsapiens_regulatory_feature__regulatory_featur...</td>\n",
       "      <td>so_name_1024</td>\n",
       "    </tr>\n",
       "    <tr>\n",
       "      <th>efo_id</th>\n",
       "      <td>EFO term accession</td>\n",
       "      <td></td>\n",
       "      <td>regulatory_feature</td>\n",
       "      <td>html,txt,csv,tsv,xls</td>\n",
       "      <td>hsapiens_regulatory_feature__regulatory_activi...</td>\n",
       "      <td>dbprimary_acc_1046</td>\n",
       "    </tr>\n",
       "  </tbody>\n",
       "</table>\n",
       "</div>"
      ],
      "text/plain": [
       "                                                 0 1                   2  \\\n",
       "activity                                  Activity    regulatory_feature   \n",
       "regulatory_stable_id          Regulatory stable ID    regulatory_feature   \n",
       "bound_seq_region_start            Bound start (bp)    regulatory_feature   \n",
       "bound_seq_region_end                Bound end (bp)    regulatory_feature   \n",
       "chromosome_name           Chromosome/scaffold name    regulatory_feature   \n",
       "chromosome_start                        Start (bp)    regulatory_feature   \n",
       "chromosome_end                            End (bp)    regulatory_feature   \n",
       "feature_type_name                     Feature type    regulatory_feature   \n",
       "feature_type_description  Feature type description    regulatory_feature   \n",
       "epigenome_name                      Epigenome name    regulatory_feature   \n",
       "epigenome_description        Epigenome description    regulatory_feature   \n",
       "so_accession                     SO term accession    regulatory_feature   \n",
       "so_name                               SO term name    regulatory_feature   \n",
       "efo_id                          EFO term accession    regulatory_feature   \n",
       "\n",
       "                                             3  \\\n",
       "activity                  html,txt,csv,tsv,xls   \n",
       "regulatory_stable_id      html,txt,csv,tsv,xls   \n",
       "bound_seq_region_start    html,txt,csv,tsv,xls   \n",
       "bound_seq_region_end      html,txt,csv,tsv,xls   \n",
       "chromosome_name           html,txt,csv,tsv,xls   \n",
       "chromosome_start          html,txt,csv,tsv,xls   \n",
       "chromosome_end            html,txt,csv,tsv,xls   \n",
       "feature_type_name         html,txt,csv,tsv,xls   \n",
       "feature_type_description  html,txt,csv,tsv,xls   \n",
       "epigenome_name            html,txt,csv,tsv,xls   \n",
       "epigenome_description     html,txt,csv,tsv,xls   \n",
       "so_accession              html,txt,csv,tsv,xls   \n",
       "so_name                   html,txt,csv,tsv,xls   \n",
       "efo_id                    html,txt,csv,tsv,xls   \n",
       "\n",
       "                                                                          4  \\\n",
       "activity                  hsapiens_regulatory_feature__regulatory_activi...   \n",
       "regulatory_stable_id      hsapiens_regulatory_feature__regulatory_featur...   \n",
       "bound_seq_region_start    hsapiens_regulatory_feature__regulatory_featur...   \n",
       "bound_seq_region_end      hsapiens_regulatory_feature__regulatory_featur...   \n",
       "chromosome_name           hsapiens_regulatory_feature__regulatory_featur...   \n",
       "chromosome_start          hsapiens_regulatory_feature__regulatory_featur...   \n",
       "chromosome_end            hsapiens_regulatory_feature__regulatory_featur...   \n",
       "feature_type_name         hsapiens_regulatory_feature__regulatory_featur...   \n",
       "feature_type_description  hsapiens_regulatory_feature__regulatory_featur...   \n",
       "epigenome_name            hsapiens_regulatory_feature__regulatory_activi...   \n",
       "epigenome_description     hsapiens_regulatory_feature__regulatory_activi...   \n",
       "so_accession              hsapiens_regulatory_feature__regulatory_featur...   \n",
       "so_name                   hsapiens_regulatory_feature__regulatory_featur...   \n",
       "efo_id                    hsapiens_regulatory_feature__regulatory_activi...   \n",
       "\n",
       "                                                      5  \n",
       "activity                                  activity_1036  \n",
       "regulatory_stable_id                     stable_id_1051  \n",
       "bound_seq_region_start           bound_seq_region_start  \n",
       "bound_seq_region_end               bound_seq_region_end  \n",
       "chromosome_name                    seq_region_name_1051  \n",
       "chromosome_start                  seq_region_start_1051  \n",
       "chromosome_end                      seq_region_end_1051  \n",
       "feature_type_name                feature_type_name_1051  \n",
       "feature_type_description  feature_type_description_1051  \n",
       "epigenome_name                      epigenome_name_1081  \n",
       "epigenome_description        epigenome_description_1081  \n",
       "so_accession                          so_accession_1024  \n",
       "so_name                                    so_name_1024  \n",
       "efo_id                               dbprimary_acc_1046  "
      ]
     },
     "execution_count": 6,
     "metadata": {},
     "output_type": "execute_result"
    }
   ],
   "source": [
    "temp = pd.DataFrame()\n",
    "for k,v in bm.attributes(\"hsapiens_regulatory_feature\").items():\n",
    "    temp[k] = v\n",
    "temp.T"
   ]
  },
  {
   "cell_type": "markdown",
   "metadata": {},
   "source": [
    "# Downloading Ensembl databases"
   ]
  },
  {
   "cell_type": "code",
   "execution_count": null,
   "metadata": {},
   "outputs": [
    {
     "name": "stdout",
     "output_type": "stream",
     "text": [
      "Querying hsapiens_snp from useast.ensembl.org with attributes ['synonym_name', 'variation_names', 'minor_allele', 'associated_variant_risk_allele', 'ensembl_gene_stable_id', 'ensembl_transcript_stable_id', 'phenotype_name', 'chr_name', 'chrom_start', 'chrom_end']...\n"
     ]
    }
   ],
   "source": [
    "ensembl_snp = EnsemblSNP(dataset=\"hsapiens_snp\", \n",
    "                           host=\"useast.ensembl.org\", )\n",
    "print(ensembl_snp.filename)\n",
    "ensembl_snp.df.head()"
   ]
  },
  {
   "cell_type": "code",
   "execution_count": null,
   "metadata": {
    "scrolled": true
   },
   "outputs": [],
   "source": [
    "ensembl_somatic = EnsemblSomaticVariation()\n",
    "ensembl_somatic.filename"
   ]
  },
  {
   "cell_type": "code",
   "execution_count": null,
   "metadata": {},
   "outputs": [],
   "source": [
    "ensembl_geneseq = EnsemblGeneSequences()\n",
    "ensembl_geneseq.filename"
   ]
  },
  {
   "cell_type": "code",
   "execution_count": null,
   "metadata": {},
   "outputs": [],
   "source": [
    "ensembl_transcriptseq = EnsemblTranscriptSequences()"
   ]
  },
  {
   "cell_type": "code",
   "execution_count": null,
   "metadata": {},
   "outputs": [],
   "source": [
    "bm.new_query()\n",
    "bm.add_dataset_to_xml(\"hsapiens_gene_ensembl__mart_transcript_variation_som__dm\")\n",
    "# bm.attributes(\"ensembl_mart_sequence\")"
   ]
  },
  {
   "cell_type": "code",
   "execution_count": null,
   "metadata": {},
   "outputs": [],
   "source": [
    "\n",
    "for at in attributes:\n",
    "    bm.add_attribute_to_xml(at)\n",
    "xml_query = bm.get_xml()\n",
    "\n",
    "print(\"Querying {} from {}...\".format(dataset, host))\n",
    "results = bm.query(xml_query)\n",
    "df = pd.read_csv(StringIO(results), header=None, names=attributes, sep=\"\\t\", index_col=None)"
   ]
  },
  {
   "cell_type": "code",
   "execution_count": 3,
   "metadata": {},
   "outputs": [],
   "source": [
    "from gseapy.parser import Biomart\n",
    "bm = Biomart()\n",
    "results = bm.query(dataset='hsapiens_gene_ensembl',\n",
    "                   attributes=['external_gene_name','entrezgene', 'go_id'],\n",
    "                   # save output file\n",
    "                   filename=\"query.results.txt\")"
   ]
  }
 ],
 "metadata": {
  "kernelspec": {
   "display_name": "Python 3",
   "language": "python",
   "name": "python3"
  },
  "language_info": {
   "codemirror_mode": {
    "name": "ipython",
    "version": 3
   },
   "file_extension": ".py",
   "mimetype": "text/x-python",
   "name": "python",
   "nbconvert_exporter": "python",
   "pygments_lexer": "ipython3",
   "version": "3.6.10"
  }
 },
 "nbformat": 4,
 "nbformat_minor": 4
}
