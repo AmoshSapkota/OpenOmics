{
 "cells": [
  {
   "cell_type": "code",
   "execution_count": 1,
   "metadata": {},
   "outputs": [],
   "source": [
    "# Necessary imports\n",
    "%load_ext autoreload\n",
    "%autoreload 1\n",
    "\n",
    "import networkx as nx\n",
    "import numpy as np\n",
    "import pandas as pd\n",
    "import scipy.sparse as sps\n",
    "import pickle\n",
    "\n",
    "import dask.dataframe as dd\n",
    "\n",
    "from openomics.multiomics import MultiOmics\n",
    "from openomics.transcriptomics import *\n",
    "from openomics.database import *\n",
    "\n",
    "from bioservices import BioMart\n",
    "\n",
    "import matplotlib.pyplot as plt\n",
    "pd.set_option('display.max_rows', 100)"
   ]
  },
  {
   "cell_type": "code",
   "execution_count": null,
   "metadata": {
    "scrolled": true
   },
   "outputs": [
    {
     "name": "stdout",
     "output_type": "stream",
     "text": [
      "Fetching file from URL: https://stringdb-static.org/download/protein.links.v11.0/ 9606.protein.links.v11.0.txt.gz\n",
      "Fetching file from URL: https://stringdb-static.org/download/protein.info.v11.0/ 9606.protein.info.v11.0.txt.gz\n",
      "Fetching file from URL: https://stringdb-static.org/download/protein.sequences.v11.0/ 9606.protein.sequences.v11.0.fa.gz\n"
     ]
    }
   ],
   "source": [
    "string = STRING(path=\"https://stringdb-static.org/download/\",\n",
    "                  species_id=\"9606\",\n",
    "                  source_col_name=\"protein1\", target_col_name=\"protein2\", )"
   ]
  },
  {
   "cell_type": "code",
   "execution_count": null,
   "metadata": {},
   "outputs": [],
   "source": [
    "string.df"
   ]
  },
  {
   "cell_type": "code",
   "execution_count": null,
   "metadata": {},
   "outputs": [],
   "source": []
  },
  {
   "cell_type": "code",
   "execution_count": 3,
   "metadata": {},
   "outputs": [
    {
     "data": {
      "text/plain": [
       "['ensembl_mart_97',\n",
       " 'genomic_features_mart_97',\n",
       " 'mouse_mart_97',\n",
       " 'ontology_mart_97',\n",
       " 'regulation_mart_97',\n",
       " 'sequence_mart_97',\n",
       " 'snp_mart_97']"
      ]
     },
     "execution_count": 3,
     "metadata": {},
     "output_type": "execute_result"
    }
   ],
   "source": [
    "bm = BioMart(host=\"www.ensembl.org\")\n",
    "bm.databases"
   ]
  },
  {
   "cell_type": "code",
   "execution_count": 15,
   "metadata": {},
   "outputs": [
    {
     "name": "stdout",
     "output_type": "stream",
     "text": [
      "Candidate:\n",
      "     database: regulation_mart_97 \n",
      "    MART name: ENSEMBL_MART_GENOMIC \n",
      "  displayName: Genomic features 97 \n",
      "        hosts: www.ensembl.org \n",
      "Candidate:\n",
      "     database: snp_mart_97 \n",
      "    MART name: ENSEMBL_MART_FUNCGEN \n",
      "  displayName: Ensembl Regulation 97 \n",
      "        hosts: www.ensembl.org \n"
     ]
    }
   ],
   "source": [
    "bm.lookfor('reg')"
   ]
  },
  {
   "cell_type": "code",
   "execution_count": 16,
   "metadata": {
    "scrolled": true
   },
   "outputs": [
    {
     "name": "stdout",
     "output_type": "stream",
     "text": [
      "hsapiens_encode\n",
      "rnorvegicus_qtl_feature\n",
      "hsapiens_karyotype_end\n",
      "gaculeatus_marker_start\n",
      "hsapiens_marker_start\n",
      "ggallus_qtl_feature\n",
      "rnorvegicus_karyotype_end\n",
      "rnorvegicus_marker_end\n",
      "mmusculus_marker_end\n",
      "cfamiliaris_marker_end\n",
      "oaries_marker_end\n",
      "btaurus_qtl_feature\n",
      "gaculeatus_marker_end\n",
      "hsapiens_marker_end\n",
      "sscrofa_qtl_feature\n",
      "oaries_marker_start\n",
      "mmusculus_marker_start\n",
      "rnorvegicus_karyotype_start\n",
      "hsapiens_karyotype_start\n",
      "dmelanogaster_karyotype_start\n",
      "oaries_qtl_feature\n",
      "cfamiliaris_marker_start\n",
      "dmelanogaster_karyotype_end\n",
      "ecaballus_qtl_feature\n",
      "mmusculus_karyotype_end\n",
      "mmusculus_karyotype_start\n",
      "rnorvegicus_marker_start\n"
     ]
    }
   ],
   "source": [
    "datasets = bm.datasets(\"ENSEMBL_MART_GENOMIC\")\n",
    "for d in datasets:\n",
    "    print(d)"
   ]
  },
  {
   "cell_type": "code",
   "execution_count": 6,
   "metadata": {
    "scrolled": true
   },
   "outputs": [
    {
     "data": {
      "text/html": [
       "<div>\n",
       "<style scoped>\n",
       "    .dataframe tbody tr th:only-of-type {\n",
       "        vertical-align: middle;\n",
       "    }\n",
       "\n",
       "    .dataframe tbody tr th {\n",
       "        vertical-align: top;\n",
       "    }\n",
       "\n",
       "    .dataframe thead th {\n",
       "        text-align: right;\n",
       "    }\n",
       "</style>\n",
       "<table border=\"1\" class=\"dataframe\">\n",
       "  <thead>\n",
       "    <tr style=\"text-align: right;\">\n",
       "      <th></th>\n",
       "      <th>0</th>\n",
       "      <th>1</th>\n",
       "      <th>2</th>\n",
       "      <th>3</th>\n",
       "      <th>4</th>\n",
       "      <th>5</th>\n",
       "    </tr>\n",
       "  </thead>\n",
       "  <tbody>\n",
       "    <tr>\n",
       "      <th>activity</th>\n",
       "      <td>Activity</td>\n",
       "      <td></td>\n",
       "      <td>regulatory_feature</td>\n",
       "      <td>html,txt,csv,tsv,xls</td>\n",
       "      <td>hsapiens_regulatory_feature__regulatory_activi...</td>\n",
       "      <td>activity_1036</td>\n",
       "    </tr>\n",
       "    <tr>\n",
       "      <th>regulatory_stable_id</th>\n",
       "      <td>Regulatory stable ID</td>\n",
       "      <td></td>\n",
       "      <td>regulatory_feature</td>\n",
       "      <td>html,txt,csv,tsv,xls</td>\n",
       "      <td>hsapiens_regulatory_feature__regulatory_featur...</td>\n",
       "      <td>stable_id_1051</td>\n",
       "    </tr>\n",
       "    <tr>\n",
       "      <th>bound_seq_region_start</th>\n",
       "      <td>Bound start (bp)</td>\n",
       "      <td></td>\n",
       "      <td>regulatory_feature</td>\n",
       "      <td>html,txt,csv,tsv,xls</td>\n",
       "      <td>hsapiens_regulatory_feature__regulatory_featur...</td>\n",
       "      <td>bound_seq_region_start</td>\n",
       "    </tr>\n",
       "    <tr>\n",
       "      <th>bound_seq_region_end</th>\n",
       "      <td>Bound end (bp)</td>\n",
       "      <td></td>\n",
       "      <td>regulatory_feature</td>\n",
       "      <td>html,txt,csv,tsv,xls</td>\n",
       "      <td>hsapiens_regulatory_feature__regulatory_featur...</td>\n",
       "      <td>bound_seq_region_end</td>\n",
       "    </tr>\n",
       "    <tr>\n",
       "      <th>chromosome_name</th>\n",
       "      <td>Chromosome/scaffold name</td>\n",
       "      <td></td>\n",
       "      <td>regulatory_feature</td>\n",
       "      <td>html,txt,csv,tsv,xls</td>\n",
       "      <td>hsapiens_regulatory_feature__regulatory_featur...</td>\n",
       "      <td>seq_region_name_1051</td>\n",
       "    </tr>\n",
       "    <tr>\n",
       "      <th>chromosome_start</th>\n",
       "      <td>Start (bp)</td>\n",
       "      <td></td>\n",
       "      <td>regulatory_feature</td>\n",
       "      <td>html,txt,csv,tsv,xls</td>\n",
       "      <td>hsapiens_regulatory_feature__regulatory_featur...</td>\n",
       "      <td>seq_region_start_1051</td>\n",
       "    </tr>\n",
       "    <tr>\n",
       "      <th>chromosome_end</th>\n",
       "      <td>End (bp)</td>\n",
       "      <td></td>\n",
       "      <td>regulatory_feature</td>\n",
       "      <td>html,txt,csv,tsv,xls</td>\n",
       "      <td>hsapiens_regulatory_feature__regulatory_featur...</td>\n",
       "      <td>seq_region_end_1051</td>\n",
       "    </tr>\n",
       "    <tr>\n",
       "      <th>feature_type_name</th>\n",
       "      <td>Feature type</td>\n",
       "      <td></td>\n",
       "      <td>regulatory_feature</td>\n",
       "      <td>html,txt,csv,tsv,xls</td>\n",
       "      <td>hsapiens_regulatory_feature__regulatory_featur...</td>\n",
       "      <td>feature_type_name_1051</td>\n",
       "    </tr>\n",
       "    <tr>\n",
       "      <th>feature_type_description</th>\n",
       "      <td>Feature type description</td>\n",
       "      <td></td>\n",
       "      <td>regulatory_feature</td>\n",
       "      <td>html,txt,csv,tsv,xls</td>\n",
       "      <td>hsapiens_regulatory_feature__regulatory_featur...</td>\n",
       "      <td>feature_type_description_1051</td>\n",
       "    </tr>\n",
       "    <tr>\n",
       "      <th>epigenome_name</th>\n",
       "      <td>Epigenome name</td>\n",
       "      <td></td>\n",
       "      <td>regulatory_feature</td>\n",
       "      <td>html,txt,csv,tsv,xls</td>\n",
       "      <td>hsapiens_regulatory_feature__regulatory_activi...</td>\n",
       "      <td>epigenome_name_1081</td>\n",
       "    </tr>\n",
       "    <tr>\n",
       "      <th>epigenome_description</th>\n",
       "      <td>Epigenome description</td>\n",
       "      <td></td>\n",
       "      <td>regulatory_feature</td>\n",
       "      <td>html,txt,csv,tsv,xls</td>\n",
       "      <td>hsapiens_regulatory_feature__regulatory_activi...</td>\n",
       "      <td>epigenome_description_1081</td>\n",
       "    </tr>\n",
       "    <tr>\n",
       "      <th>so_accession</th>\n",
       "      <td>SO term accession</td>\n",
       "      <td></td>\n",
       "      <td>regulatory_feature</td>\n",
       "      <td>html,txt,csv,tsv,xls</td>\n",
       "      <td>hsapiens_regulatory_feature__regulatory_featur...</td>\n",
       "      <td>so_accession_1024</td>\n",
       "    </tr>\n",
       "    <tr>\n",
       "      <th>so_name</th>\n",
       "      <td>SO term name</td>\n",
       "      <td></td>\n",
       "      <td>regulatory_feature</td>\n",
       "      <td>html,txt,csv,tsv,xls</td>\n",
       "      <td>hsapiens_regulatory_feature__regulatory_featur...</td>\n",
       "      <td>so_name_1024</td>\n",
       "    </tr>\n",
       "    <tr>\n",
       "      <th>efo_id</th>\n",
       "      <td>EFO term accession</td>\n",
       "      <td></td>\n",
       "      <td>regulatory_feature</td>\n",
       "      <td>html,txt,csv,tsv,xls</td>\n",
       "      <td>hsapiens_regulatory_feature__regulatory_activi...</td>\n",
       "      <td>dbprimary_acc_1046</td>\n",
       "    </tr>\n",
       "  </tbody>\n",
       "</table>\n",
       "</div>"
      ],
      "text/plain": [
       "                                                 0 1                   2  \\\n",
       "activity                                  Activity    regulatory_feature   \n",
       "regulatory_stable_id          Regulatory stable ID    regulatory_feature   \n",
       "bound_seq_region_start            Bound start (bp)    regulatory_feature   \n",
       "bound_seq_region_end                Bound end (bp)    regulatory_feature   \n",
       "chromosome_name           Chromosome/scaffold name    regulatory_feature   \n",
       "chromosome_start                        Start (bp)    regulatory_feature   \n",
       "chromosome_end                            End (bp)    regulatory_feature   \n",
       "feature_type_name                     Feature type    regulatory_feature   \n",
       "feature_type_description  Feature type description    regulatory_feature   \n",
       "epigenome_name                      Epigenome name    regulatory_feature   \n",
       "epigenome_description        Epigenome description    regulatory_feature   \n",
       "so_accession                     SO term accession    regulatory_feature   \n",
       "so_name                               SO term name    regulatory_feature   \n",
       "efo_id                          EFO term accession    regulatory_feature   \n",
       "\n",
       "                                             3  \\\n",
       "activity                  html,txt,csv,tsv,xls   \n",
       "regulatory_stable_id      html,txt,csv,tsv,xls   \n",
       "bound_seq_region_start    html,txt,csv,tsv,xls   \n",
       "bound_seq_region_end      html,txt,csv,tsv,xls   \n",
       "chromosome_name           html,txt,csv,tsv,xls   \n",
       "chromosome_start          html,txt,csv,tsv,xls   \n",
       "chromosome_end            html,txt,csv,tsv,xls   \n",
       "feature_type_name         html,txt,csv,tsv,xls   \n",
       "feature_type_description  html,txt,csv,tsv,xls   \n",
       "epigenome_name            html,txt,csv,tsv,xls   \n",
       "epigenome_description     html,txt,csv,tsv,xls   \n",
       "so_accession              html,txt,csv,tsv,xls   \n",
       "so_name                   html,txt,csv,tsv,xls   \n",
       "efo_id                    html,txt,csv,tsv,xls   \n",
       "\n",
       "                                                                          4  \\\n",
       "activity                  hsapiens_regulatory_feature__regulatory_activi...   \n",
       "regulatory_stable_id      hsapiens_regulatory_feature__regulatory_featur...   \n",
       "bound_seq_region_start    hsapiens_regulatory_feature__regulatory_featur...   \n",
       "bound_seq_region_end      hsapiens_regulatory_feature__regulatory_featur...   \n",
       "chromosome_name           hsapiens_regulatory_feature__regulatory_featur...   \n",
       "chromosome_start          hsapiens_regulatory_feature__regulatory_featur...   \n",
       "chromosome_end            hsapiens_regulatory_feature__regulatory_featur...   \n",
       "feature_type_name         hsapiens_regulatory_feature__regulatory_featur...   \n",
       "feature_type_description  hsapiens_regulatory_feature__regulatory_featur...   \n",
       "epigenome_name            hsapiens_regulatory_feature__regulatory_activi...   \n",
       "epigenome_description     hsapiens_regulatory_feature__regulatory_activi...   \n",
       "so_accession              hsapiens_regulatory_feature__regulatory_featur...   \n",
       "so_name                   hsapiens_regulatory_feature__regulatory_featur...   \n",
       "efo_id                    hsapiens_regulatory_feature__regulatory_activi...   \n",
       "\n",
       "                                                      5  \n",
       "activity                                  activity_1036  \n",
       "regulatory_stable_id                     stable_id_1051  \n",
       "bound_seq_region_start           bound_seq_region_start  \n",
       "bound_seq_region_end               bound_seq_region_end  \n",
       "chromosome_name                    seq_region_name_1051  \n",
       "chromosome_start                  seq_region_start_1051  \n",
       "chromosome_end                      seq_region_end_1051  \n",
       "feature_type_name                feature_type_name_1051  \n",
       "feature_type_description  feature_type_description_1051  \n",
       "epigenome_name                      epigenome_name_1081  \n",
       "epigenome_description        epigenome_description_1081  \n",
       "so_accession                          so_accession_1024  \n",
       "so_name                                    so_name_1024  \n",
       "efo_id                               dbprimary_acc_1046  "
      ]
     },
     "execution_count": 6,
     "metadata": {},
     "output_type": "execute_result"
    }
   ],
   "source": [
    "temp = pd.DataFrame()\n",
    "for k,v in bm.attributes(\"hsapiens_regulatory_feature\").items():\n",
    "    temp[k] = v\n",
    "temp.T"
   ]
  },
  {
   "cell_type": "markdown",
   "metadata": {},
   "source": [
    "# Downloading Ensembl databases"
   ]
  },
  {
   "cell_type": "code",
   "execution_count": null,
   "metadata": {},
   "outputs": [
    {
     "name": "stdout",
     "output_type": "stream",
     "text": [
      "Querying hsapiens_snp from useast.ensembl.org with attributes ['synonym_name', 'variation_names', 'minor_allele', 'associated_variant_risk_allele', 'ensembl_gene_stable_id', 'ensembl_transcript_stable_id', 'phenotype_name', 'chr_name', 'chrom_start', 'chrom_end']...\n"
     ]
    }
   ],
   "source": [
    "ensembl_snp = EnsemblSNP(dataset=\"hsapiens_snp\", \n",
    "                           host=\"useast.ensembl.org\", )\n",
    "print(ensembl_snp.filename)\n",
    "ensembl_snp.df.head()"
   ]
  },
  {
   "cell_type": "code",
   "execution_count": null,
   "metadata": {
    "scrolled": true
   },
   "outputs": [],
   "source": [
    "ensembl_somatic = EnsemblSomaticVariation()\n",
    "ensembl_somatic.filename"
   ]
  },
  {
   "cell_type": "code",
   "execution_count": null,
   "metadata": {},
   "outputs": [],
   "source": [
    "ensembl_geneseq = EnsemblGeneSequences()\n",
    "ensembl_geneseq.filename"
   ]
  },
  {
   "cell_type": "code",
   "execution_count": null,
   "metadata": {},
   "outputs": [],
   "source": [
    "ensembl_transcriptseq = EnsemblTranscriptSequences()"
   ]
  },
  {
   "cell_type": "code",
   "execution_count": null,
   "metadata": {},
   "outputs": [],
   "source": [
    "bm.new_query()\n",
    "bm.add_dataset_to_xml(\"hsapiens_gene_ensembl__mart_transcript_variation_som__dm\")\n",
    "# bm.attributes(\"ensembl_mart_sequence\")"
   ]
  },
  {
   "cell_type": "code",
   "execution_count": null,
   "metadata": {},
   "outputs": [],
   "source": [
    "\n",
    "for at in attributes:\n",
    "    bm.add_attribute_to_xml(at)\n",
    "xml_query = bm.get_xml()\n",
    "\n",
    "print(\"Querying {} from {}...\".format(dataset, host))\n",
    "results = bm.query(xml_query)\n",
    "df = pd.read_csv(StringIO(results), header=None, names=attributes, sep=\"\\t\", index_col=None)"
   ]
  },
  {
   "cell_type": "code",
   "execution_count": 3,
   "metadata": {},
   "outputs": [],
   "source": [
    "from gseapy.parser import Biomart\n",
    "bm = Biomart()\n",
    "results = bm.query(dataset='hsapiens_gene_ensembl',\n",
    "                   attributes=['external_gene_name','entrezgene', 'go_id'],\n",
    "                   # save output file\n",
    "                   filename=\"query.results.txt\")"
   ]
  }
 ],
 "metadata": {
  "kernelspec": {
   "display_name": "Python 3",
   "language": "python",
   "name": "python3"
  },
  "language_info": {
   "codemirror_mode": {
    "name": "ipython",
    "version": 3
   },
   "file_extension": ".py",
   "mimetype": "text/x-python",
   "name": "python",
   "nbconvert_exporter": "python",
   "pygments_lexer": "ipython3",
   "version": "3.6.10"
  }
 },
 "nbformat": 4,
 "nbformat_minor": 4
}
