{
 "cells": [
  {
   "cell_type": "code",
   "execution_count": 1,
   "metadata": {},
   "outputs": [],
   "source": [
    "import dash\n",
    "import dash_bootstrap_components as dbc\n",
    "import dash_table\n",
    "import pandas as pd\n",
    "import jupyterlab_dash\n",
    "from dash.dependencies import Input, Output, State\n",
    "import dash_core_components as dcc\n",
    "import dash_html_components as html\n",
    "import dash_table\n",
    "\n",
    "import base64\n",
    "import datetime\n",
    "import io\n",
    "import plotly.graph_objs as go\n",
    "import numpy as np\n",
    "import pandas as pd\n",
    "\n",
    "import dash_table"
   ]
  },
  {
   "cell_type": "code",
   "execution_count": 2,
   "metadata": {},
   "outputs": [],
   "source": [
    "app = dash.Dash(\"dash_test\", external_stylesheets=[dbc.themes.BOOTSTRAP])\n",
    "viewer = jupyterlab_dash.AppViewer()"
   ]
  },
  {
   "cell_type": "code",
   "execution_count": 3,
   "metadata": {},
   "outputs": [],
   "source": [
    "np.random.seed(0)\n",
    "df = pd.DataFrame({\n",
    "    'Column {}'.format(i): np.random.rand(30) + i*10\n",
    "    for i in range(6)})"
   ]
  },
  {
   "cell_type": "code",
   "execution_count": 4,
   "metadata": {},
   "outputs": [],
   "source": [
    "app.layout = html.Div([\n",
    "    html.Div(\n",
    "        dcc.Graph(\n",
    "            id='g1',\n",
    "            config={'displayModeBar': False}\n",
    "        ), className='four columns'), \n",
    "    html.Div(\n",
    "        dcc.Graph(\n",
    "            id='g2',\n",
    "            config={'displayModeBar': False}\n",
    "        ), className='four columns'),\n",
    "    html.Div(\n",
    "        dcc.Graph(\n",
    "            id='g3',\n",
    "            config={'displayModeBar': False}\n",
    "        ), className='four columns')\n",
    "], className='row')"
   ]
  },
  {
   "cell_type": "code",
   "execution_count": 5,
   "metadata": {},
   "outputs": [],
   "source": [
    "def highlight(x, y):\n",
    "    def callback(*selectedDatas):\n",
    "        selectedpoints = df.index\n",
    "        for i, selected_data in enumerate(selectedDatas):\n",
    "            if selected_data is not None:\n",
    "                selected_index = [\n",
    "                    p['customdata'] for p in selected_data['points']\n",
    "                ]\n",
    "                if len(selected_index) > 0:\n",
    "                    selectedpoints = np.intersect1d(\n",
    "                        selectedpoints, selected_index)\n",
    "        # set which points are selected with the `selectedpoints` proper\n",
    "        # and style those points with the `selected` and `unselected`\n",
    "        # attribute. see\n",
    "        figure = {\n",
    "            'data': [\n",
    "                {\n",
    "                    'x': df[x],\n",
    "                'y': df[y],\n",
    "                'text': df.index,\n",
    "                'textposition': 'top',\n",
    "                'selectedpoints': selectedpoints,\n",
    "                'customdata': df.index,\n",
    "                'type': 'scatter',\n",
    "                'mode': 'markers+text',\n",
    "                'marker': {\n",
    "                    'color': 'rgba(0, 116, 217, 0.7)',\n",
    "                    'size': 12,\n",
    "                    'line': {\n",
    "                        'color': 'rgb(0, 116, 217)',\n",
    "                        'width': 0.5\n",
    "                    }\n",
    "                },\n",
    "                'textfont': {\n",
    "                    'color': 'rgba(30, 30, 30, 1)'\n",
    "                },\n",
    "                'unselected': {\n",
    "                    'marker': {\n",
    "                        'opacity': 0.3,\n",
    "                    },\n",
    "                    'textfont': {\n",
    "                        # make text transparent when not selected\n",
    "                        'color': 'rgba(0, 0, 0, 0)'\n",
    "                    } \n",
    "                }\n",
    "                },\n",
    "            ],\n",
    "            'layout': {\n",
    "                'clickmode': 'event+select',\n",
    "                'margin': {'l': 15, 'r': 0, 'b': 15, 't': 5},\n",
    "                'dragmode': 'select',\n",
    "                'hovermode': 'closest',\n",
    "                'showlegend': False},\n",
    "        }\n",
    "        # Display a rectangle to highlight the previously selected regio\n",
    "        shape = {\n",
    "            'type': 'rect',\n",
    "            'line': {\n",
    "                'width': 1,\n",
    "                'dash': 'dot',\n",
    "                'color': 'darkgrey'\n",
    "            }\n",
    "        }\n",
    "        if selectedDatas[0] and selectedDatas[0]['range']:\n",
    "            figure['layout']['shapes'] = [dict({\n",
    "                'x0': selectedDatas[0]['range']['x'][0],\n",
    "                'x1': selectedDatas[0]['range']['x'][1],\n",
    "                'y0': selectedDatas[0]['range']['y'][0],\n",
    "                'y1': selectedDatas[0]['range']['y'][1]\n",
    "            }, **shape)]\n",
    "        else:\n",
    "            figure['layout']['shapes'] = [dict({\n",
    "                'type': 'rect',\n",
    "                'x0': np.min(df[x]),\n",
    "                'x1': np.max(df[x]),\n",
    "                'y0': np.min(df[y]),\n",
    "                'y1': np.max(df[y])\n",
    "            }, **shape)]\n",
    "        return figure\n",
    "\n",
    "    return callback"
   ]
  },
  {
   "cell_type": "code",
   "execution_count": 6,
   "metadata": {},
   "outputs": [
    {
     "data": {
      "text/plain": [
       "<function __main__.highlight.<locals>.callback(*selectedDatas)>"
      ]
     },
     "execution_count": 6,
     "metadata": {},
     "output_type": "execute_result"
    }
   ],
   "source": [
    "app.callback(\n",
    "    Output('g1', 'figure'),\n",
    "    [Input('g1', 'selectedData'),\n",
    "     Input('g2', 'selectedData'),\n",
    "     Input('g3', 'selectedData')]\n",
    "    )(highlight('Column 0', 'Column 1'))\n",
    "\n",
    "app.callback(\n",
    "    Output('g2', 'figure'),\n",
    "    [Input('g2', 'selectedData'),\n",
    "     Input('g1', 'selectedData'),\n",
    "     Input('g3', 'selectedData')]\n",
    "    )(highlight('Column 2', 'Column 3'))\n",
    "\n",
    "app.callback(\n",
    "    Output('g3', 'figure'),\n",
    "    [Input('g3', 'selectedData'),\n",
    "     Input('g1', 'selectedData'),\n",
    "     Input('g2', 'selectedData')]\n",
    "    )(highlight('Column 4', 'Column 5'))"
   ]
  },
  {
   "cell_type": "code",
   "execution_count": null,
   "metadata": {},
   "outputs": [],
   "source": [
    "# if __name__ == '__main__':\n",
    "#     app.run_server(debug=True, port=8050)\n",
    "viewer.show(app)"
   ]
  },
  {
   "cell_type": "code",
   "execution_count": null,
   "metadata": {},
   "outputs": [],
   "source": []
  }
 ],
 "metadata": {
  "kernelspec": {
   "display_name": "Python 3",
   "language": "python",
   "name": "python3"
  },
  "language_info": {
   "codemirror_mode": {
    "name": "ipython",
    "version": 3
   },
   "file_extension": ".py",
   "mimetype": "text/x-python",
   "name": "python",
   "nbconvert_exporter": "python",
   "pygments_lexer": "ipython3",
   "version": "3.6.10"
  }
 },
 "nbformat": 4,
 "nbformat_minor": 4
}
